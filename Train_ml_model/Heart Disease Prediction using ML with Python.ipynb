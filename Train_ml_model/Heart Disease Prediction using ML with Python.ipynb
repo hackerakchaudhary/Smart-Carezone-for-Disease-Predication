Add pandas profiling 
Pandas Profiling is a Python library that generates detailed reports about a dataset, providing an
exploratory data analysis (EDA) in a single HTML file. It helps users quickly understand the 
characteristics of their dataset, allowing them to make informed decisions for further analysis or preprocessing
